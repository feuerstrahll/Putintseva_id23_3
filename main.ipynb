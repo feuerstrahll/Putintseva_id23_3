{
 "cells": [
  {
   "cell_type": "code",
   "execution_count": 2,
   "id": "9c65e08b",
   "metadata": {},
   "outputs": [],
   "source": [
    "import tkinter as tk"
   ]
  },
  {
   "cell_type": "code",
   "execution_count": 3,
   "id": "770c1c62",
   "metadata": {},
   "outputs": [],
   "source": [
    "from tkinter import *\n",
    "from tkinter import colorchooser\n",
    "from random import *\n",
    "import math"
   ]
  },
  {
   "cell_type": "code",
   "execution_count": 10,
   "id": "70cc9277",
   "metadata": {},
   "outputs": [],
   "source": [
    "window = Tk()\n",
    "colorchooser.askcolor()\n",
    "\n",
    "size = 600\n",
    "root = Tk()\n",
    "canvas = Canvas(root, width=size, height=size)\n",
    "canvas.pack()\n",
    "diapason = 0"
   ]
  },
  {
   "cell_type": "code",
   "execution_count": null,
   "id": "42fe1513",
   "metadata": {},
   "outputs": [],
   "source": [
    "while diapason < 1000:\n",
    "    colors = choice(['aqua', 'blue', 'fuchsia', 'green', 'maroon', 'orange',\n",
    "                  'pink', 'purple', 'red','yellow', 'violet', 'indigo', 'chartreuse', 'lime'])\n",
    "    x0 = randint(0, size)\n",
    "    y0 = randint(0, size)\n",
    "    d = randint(0, size/5)\n",
    "    canvas.create_oval(x0, y0, x0+d, y0+d, fill=colors)\n",
    "    root.update()\n",
    "    diapason += 1"
   ]
  },
  {
   "cell_type": "code",
   "execution_count": 5,
   "id": "e144d199",
   "metadata": {
    "scrolled": true
   },
   "outputs": [],
   "source": [
    "class MovingPointApp:\n",
    "    def __init__(self, root):\n",
    "        self.root = root\n",
    "        self.root.title(\"Moving Point on a Circle\")\n",
    "        self.canvas = tk.Canvas(self.root, width=600, height=600, bg=\"white\")\n",
    "        self.canvas.pack()\n",
    "\n",
    "        # Параметры окружности\n",
    "        self.circle_radius = 200\n",
    "        self.circle_center = (300, 300)\n",
    "        self.speed = 0.01  # скорость движения\n",
    "        self.angle = 0  # начальный угол\n",
    "\n",
    "        # Рисуем окружность\n",
    "        self.canvas.create_oval(\n",
    "            self.circle_center[0] - self.circle_radius,\n",
    "            self.circle_center[1] - self.circle_radius,\n",
    "            self.circle_center[0] + self.circle_radius,\n",
    "            self.circle_center[1] + self.circle_radius\n",
    "        )\n",
    "\n",
    "        # Создаем точку\n",
    "        self.point = self.canvas.create_oval(0, 0, 10, 10, fill=\"red\")\n",
    "\n",
    "        # Кнопки для изменения скорости и направления\n",
    "        tk.Button(self.root, text=\"Увеличить скорость\", command=self.increase_speed).pack(side=tk.LEFT)\n",
    "        tk.Button(self.root, text=\"Уменьшить скорость\", command=self.decrease_speed).pack(side=tk.LEFT)\n",
    "        tk.Button(self.root, text=\"Сменить направление\", command=self.change_direction).pack(side=tk.LEFT)\n",
    "\n",
    "        # Запуск анимации\n",
    "        self.animate()\n",
    "\n",
    "    def increase_speed(self):\n",
    "        self.speed += 0.005\n",
    "\n",
    "    def decrease_speed(self):\n",
    "        if self.speed > 0.005:  # Ограничим минимальную скорость\n",
    "            self.speed -= 0.005\n",
    "\n",
    "    def change_direction(self):\n",
    "        self.speed = -self.speed\n",
    "\n",
    "    def animate(self):\n",
    "        # Вычисляем координаты точки на окружности\n",
    "        x = self.circle_center[0] + self.circle_radius * math.cos(self.angle)\n",
    "        y = self.circle_center[1] + self.circle_radius * math.sin(self.angle)\n",
    "\n",
    "        # Обновляем позицию точки\n",
    "        self.canvas.coords(self.point, x - 5, y - 5, x + 5, y + 5)\n",
    "        '''Чтобы сделать точку визуально круглой, добавляется и вычитается 5 пикселей (половина ширины/высоты точки), \n",
    "        чтобы точка оставалась небольшой (10x10 пикселей) и располагалась точно по центру в координатах (x, y)'''\n",
    "\n",
    "        # Изменяем угол для следующего шага\n",
    "        self.angle += self.speed\n",
    "\n",
    "        # Перезапускаем анимацию через 10 мс\n",
    "        self.root.after(10, self.animate)\n",
    "\n",
    "# Создаем окно\n",
    "root = tk.Tk()\n",
    "app = MovingPointApp(root)\n",
    "root.mainloop()"
   ]
  },
  {
   "cell_type": "code",
   "execution_count": null,
   "id": "a7d67a5e",
   "metadata": {},
   "outputs": [],
   "source": []
  }
 ],
 "metadata": {
  "kernelspec": {
   "display_name": "Python 3 (ipykernel)",
   "language": "python",
   "name": "python3"
  },
  "language_info": {
   "codemirror_mode": {
    "name": "ipython",
    "version": 3
   },
   "file_extension": ".py",
   "mimetype": "text/x-python",
   "name": "python",
   "nbconvert_exporter": "python",
   "pygments_lexer": "ipython3",
   "version": "3.9.19"
  }
 },
 "nbformat": 4,
 "nbformat_minor": 5
}
